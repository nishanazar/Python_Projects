{
  "cells": [
    {
      "cell_type": "markdown",
      "metadata": {
        "id": "view-in-github",
        "colab_type": "text"
      },
      "source": [
        "<a href=\"https://colab.research.google.com/github/nishanazar/Python_Projects/blob/main/Mad_libs_projects_pynb.ipynb\" target=\"_parent\"><img src=\"https://colab.research.google.com/assets/colab-badge.svg\" alt=\"Open In Colab\"/></a>"
      ]
    },
    {
      "cell_type": "code",
      "source": [
        "adj = str(input(\"Enter Adjective: \"))\n",
        "verb1 = str(input(\"Enter Verb1: \"))\n",
        "verb2 = str(input(\"Enter Verb2: \"))\n",
        "famous_person = str(input(\"Enter Famous Person name: \"))\n",
        "madlib = f\"\"\"Computer programming is so {adj}! It makes me so excited all the time\n",
        "because I love to {verb1}, stay hydrated, and {verb2} like I am {famous_person}.\"\"\"\n",
        "\n",
        "\n",
        "print(madlib)"
      ],
      "metadata": {
        "id": "T2pxt2Qrih5U"
      },
      "execution_count": null,
      "outputs": []
    }
  ],
  "metadata": {
    "colab": {
      "provenance": [],
      "authorship_tag": "ABX9TyOY78QRU9j1rWxrh0g6SAXR",
      "include_colab_link": true
    },
    "kernelspec": {
      "display_name": "Python 3",
      "name": "python3"
    },
    "language_info": {
      "name": "python"
    }
  },
  "nbformat": 4,
  "nbformat_minor": 0
}