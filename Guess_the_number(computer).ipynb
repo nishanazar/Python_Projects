{
  "nbformat": 4,
  "nbformat_minor": 0,
  "metadata": {
    "colab": {
      "provenance": [],
      "authorship_tag": "ABX9TyObGqLCSI7Up7EqPXr6wnNG",
      "include_colab_link": true
    },
    "kernelspec": {
      "name": "python3",
      "display_name": "Python 3"
    },
    "language_info": {
      "name": "python"
    }
  },
  "cells": [
    {
      "cell_type": "markdown",
      "metadata": {
        "id": "view-in-github",
        "colab_type": "text"
      },
      "source": [
        "<a href=\"https://colab.research.google.com/github/nishanazar/Python_Projects/blob/main/Guess_the_number(computer).ipynb\" target=\"_parent\"><img src=\"https://colab.research.google.com/assets/colab-badge.svg\" alt=\"Open In Colab\"/></a>"
      ]
    },
    {
      "cell_type": "code",
      "execution_count": 4,
      "metadata": {
        "colab": {
          "base_uri": "https://localhost:8080/"
        },
        "id": "T6ttQgplxjwI",
        "outputId": "6e77c45c-1a93-40c2-93a5-9d0b58492af5"
      },
      "outputs": [
        {
          "output_type": "stream",
          "name": "stdout",
          "text": [
            "Guess a number between 1 and 20: 10\n",
            "Sorry, guess again. Too high.\n",
            "Guess a number between 1 and 20: 5\n",
            "Sorry, guess again. Too high.\n",
            "Guess a number between 1 and 20: 3\n",
            "Sorry, guess again. Too high.\n",
            "Guess a number between 1 and 20: 1\n",
            "Yay, congrats. You have guessed the number 1 correctly!\n"
          ]
        }
      ],
      "source": [
        "import random\n",
        "\n",
        "def guess(x):\n",
        "    random_number = random.randint(1, x)\n",
        "    guess = 0\n",
        "    while guess != random_number:\n",
        "        guess = int(input(f\"Guess a number between 1 and {x}: \"))\n",
        "        if guess < random_number:\n",
        "            print(\"Sorry, guess again. Too low.\")\n",
        "        elif guess > random_number:\n",
        "            print(\"Sorry, guess again. Too high.\")\n",
        "    print(f\"Yay, congrats. You have guessed the number {random_number} correctly!\")\n",
        "guess(20)"
      ]
    }
  ]
}